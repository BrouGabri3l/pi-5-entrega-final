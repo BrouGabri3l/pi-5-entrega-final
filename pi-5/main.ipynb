{
 "cells": [
  {
   "cell_type": "markdown",
   "metadata": {
    "id": "bMQSHdO0wvxa"
   },
   "source": [
    "# Pi - 5º SEMESTRE\n",
    "\n",
    "## Grupo\n",
    "Gabriel Rodrigues Bolonha Santos\n",
    "\n",
    "Cayk Andrade Magnani\n",
    "\n",
    "## Descrição do Domínio\n",
    "A base utilizada é uma base de voos de companhias aéreas no brasil entre os anos de 2015  e 2017\n",
    "\n",
    "A base contém dados como Previsão de partida e chegada, Partida e chegada real, companhia aérea, Origem e destino dos voos e o status(concluído/cancelado)\n",
    "\n",
    "## Base de dados\n",
    "Flights in Brazil\n",
    "https://www.kaggle.com/datasets/ramirobentes/flights-in-brazil\n",
    "\n",
    "\n",
    "## Informações da base de dados\n",
    "Quantidade de atributos: 21\n",
    "Quantidade de exemplos: 2368114\n",
    "Há valores ausentes nas colunas Código Justificativa, Chegada.Real, Partida.Real\n",
    "São 2 classes, Realizado e Cancelado\n",
    "\n",
    "Realizado - 2100136\n",
    "Cancelado - 267978\n",
    "\n",
    "## Pré Processamento\n",
    "\n",
    "No pré processamento foram removidas as seguintes colunas\n",
    "Chegada.Real','Partida.Real','Cidade.Origem','Estado.Origem'\t,'Pais.Origem','Cidade.Destino',\t'Estado.Destino',\t'Pais.Destino','Codigo.Justificativa','Codigo.Tipo.Linha', 'Voos', 'LatDest', 'LatOrig', 'LongDest', 'LongOrig'\n",
    "\n",
    "## Extração de padrão\n",
    "\n",
    "Para a extração de padrão, foi necessário alterar a etapa de pré processamento\n",
    " - As colunas de data, foram removidas e mantidas em colunas separadas as informações de dia e mês\n",
    " - Já as colunas em string(categóricas), foram convertidas para valores numéricos pois os algoritmos do sklearn não estavam aceitando strings\n",
    "\n",
    " Os algoritmos treinados foram ( LogisticRegression, LinearDiscriminantAnalysis, KNeighborsClassifier, DecisionTreeClassifier e GaussianNB)\n",
    "\n",
    " O algoritmo SVC foi removido, o tamanho do dataset impede o algoritmo de terminar sua execução em tempo satisfatório\n",
    "\n",
    "Para o treinamento dos algoritmos, foi utilizado o método de validação cruzada com KFold, separando os dados em diversos subconjuntos\n",
    "\n",
    "Foram utilizados *10 subconjuntos* para cada algoritmo e a semente *7*  para randomizar a geração de folds e após isso os algoritmos foram treinados\n",
    "\n",
    "Os algoritmos obtiveram uma média acima de 80%, todos bem próximos, mas apenas o **KNeighborsClassifier** e o **DecisionTreeClassifier** obtiveram uma matriz de confusão ideal para o dataset, os outros algoritmos não classificaram nenhuma instância de teste como **Cancelado**, isso acontece devido a grande diferença de instâncias de cada classe, caso esperado para esta base\n",
    "\n",
    "Foram realizados alguns testes com dados gerados pelo usuário para testes, de 5 instâncias, uma delas cancelada, o algoritmo que mais classificou as instâncias como canceladas e corretamente foi o knn baseado nos testes com dados de usuário\n",
    "\n"
   ]
  },
  {
   "cell_type": "code",
   "execution_count": 98,
   "metadata": {
    "colab": {
     "base_uri": "https://localhost:8080/"
    },
    "id": "iU3xIMbhX-S8",
    "outputId": "568a30f1-d314-4982-bfc1-624b977b28d6"
   },
   "outputs": [],
   "source": [
    "import pandas as pd\n",
    "\n",
    "# from google.colab import drive\n",
    "# drive.mount('/content/drive')\n",
    "\n",
    "# Coloque o caminho para salvar os arquivos aqui\n",
    "base_path = \".\"\n",
    "\n",
    "# df = pd.read_csv(\"./BrFlights2_utf-8.csv\", delimiter=\",\")\n",
    "df = pd.read_csv(f'{base_path}/BrFlights2_utf-8.csv', delimiter=',')\n",
    "\n"
   ]
  },
  {
   "cell_type": "code",
   "execution_count": 99,
   "metadata": {
    "colab": {
     "base_uri": "https://localhost:8080/"
    },
    "id": "8R9OI1p-xqV0",
    "outputId": "2b2b2ea2-6879-4bb1-bc23-954798ffb7e5"
   },
   "outputs": [
    {
     "data": {
      "text/plain": [
       "2368114"
      ]
     },
     "execution_count": 99,
     "metadata": {},
     "output_type": "execute_result"
    }
   ],
   "source": [
    "df.shape[0]"
   ]
  },
  {
   "cell_type": "code",
   "execution_count": 100,
   "metadata": {
    "colab": {
     "base_uri": "https://localhost:8080/",
     "height": 429
    },
    "id": "hJkmB4AoX-TE",
    "outputId": "6662e45d-e113-488d-f403-50808c207851"
   },
   "outputs": [
    {
     "data": {
      "text/html": [
       "<div>\n",
       "<style scoped>\n",
       "    .dataframe tbody tr th:only-of-type {\n",
       "        vertical-align: middle;\n",
       "    }\n",
       "\n",
       "    .dataframe tbody tr th {\n",
       "        vertical-align: top;\n",
       "    }\n",
       "\n",
       "    .dataframe thead th {\n",
       "        text-align: right;\n",
       "    }\n",
       "</style>\n",
       "<table border=\"1\" class=\"dataframe\">\n",
       "  <thead>\n",
       "    <tr style=\"text-align: right;\">\n",
       "      <th></th>\n",
       "      <th>Voos</th>\n",
       "      <th>Companhia.Aerea</th>\n",
       "      <th>Codigo.Tipo.Linha</th>\n",
       "      <th>Partida.Prevista</th>\n",
       "      <th>Partida.Real</th>\n",
       "      <th>Chegada.Prevista</th>\n",
       "      <th>Chegada.Real</th>\n",
       "      <th>Situacao.Voo</th>\n",
       "      <th>Codigo.Justificativa</th>\n",
       "      <th>Aeroporto.Origem</th>\n",
       "      <th>...</th>\n",
       "      <th>Estado.Origem</th>\n",
       "      <th>Pais.Origem</th>\n",
       "      <th>Aeroporto.Destino</th>\n",
       "      <th>Cidade.Destino</th>\n",
       "      <th>Estado.Destino</th>\n",
       "      <th>Pais.Destino</th>\n",
       "      <th>LongDest</th>\n",
       "      <th>LatDest</th>\n",
       "      <th>LongOrig</th>\n",
       "      <th>LatOrig</th>\n",
       "    </tr>\n",
       "  </thead>\n",
       "  <tbody>\n",
       "    <tr>\n",
       "      <th>0</th>\n",
       "      <td>AAL - 203</td>\n",
       "      <td>AMERICAN AIRLINES INC</td>\n",
       "      <td>Internacional</td>\n",
       "      <td>2016-01-30T08:58:00Z</td>\n",
       "      <td>2016-01-30T08:58:00Z</td>\n",
       "      <td>2016-01-30T10:35:00Z</td>\n",
       "      <td>2016-01-30T10:35:00Z</td>\n",
       "      <td>Realizado</td>\n",
       "      <td>NaN</td>\n",
       "      <td>Afonso Pena</td>\n",
       "      <td>...</td>\n",
       "      <td>PR</td>\n",
       "      <td>Brasil</td>\n",
       "      <td>Salgado Filho</td>\n",
       "      <td>Porto Alegre</td>\n",
       "      <td>RS</td>\n",
       "      <td>Brasil</td>\n",
       "      <td>-51.175381</td>\n",
       "      <td>-29.993473</td>\n",
       "      <td>-49.172481</td>\n",
       "      <td>-25.532713</td>\n",
       "    </tr>\n",
       "    <tr>\n",
       "      <th>1</th>\n",
       "      <td>AAL - 203</td>\n",
       "      <td>AMERICAN AIRLINES INC</td>\n",
       "      <td>Internacional</td>\n",
       "      <td>2016-01-13T12:13:00Z</td>\n",
       "      <td>2016-01-13T12:13:00Z</td>\n",
       "      <td>2016-01-13T21:30:00Z</td>\n",
       "      <td>2016-01-13T21:30:00Z</td>\n",
       "      <td>Realizado</td>\n",
       "      <td>NaN</td>\n",
       "      <td>Salgado Filho</td>\n",
       "      <td>...</td>\n",
       "      <td>RS</td>\n",
       "      <td>Brasil</td>\n",
       "      <td>Miami</td>\n",
       "      <td>Miami</td>\n",
       "      <td>N/I</td>\n",
       "      <td>Estados Unidos</td>\n",
       "      <td>-80.287046</td>\n",
       "      <td>25.795865</td>\n",
       "      <td>-51.175381</td>\n",
       "      <td>-29.993473</td>\n",
       "    </tr>\n",
       "    <tr>\n",
       "      <th>2</th>\n",
       "      <td>AAL - 203</td>\n",
       "      <td>AMERICAN AIRLINES INC</td>\n",
       "      <td>Internacional</td>\n",
       "      <td>2016-01-29T12:13:00Z</td>\n",
       "      <td>2016-01-29T12:13:00Z</td>\n",
       "      <td>2016-01-29T21:30:00Z</td>\n",
       "      <td>2016-01-29T21:30:00Z</td>\n",
       "      <td>Realizado</td>\n",
       "      <td>NaN</td>\n",
       "      <td>Salgado Filho</td>\n",
       "      <td>...</td>\n",
       "      <td>RS</td>\n",
       "      <td>Brasil</td>\n",
       "      <td>Miami</td>\n",
       "      <td>Miami</td>\n",
       "      <td>N/I</td>\n",
       "      <td>Estados Unidos</td>\n",
       "      <td>-80.287046</td>\n",
       "      <td>25.795865</td>\n",
       "      <td>-51.175381</td>\n",
       "      <td>-29.993473</td>\n",
       "    </tr>\n",
       "    <tr>\n",
       "      <th>3</th>\n",
       "      <td>AAL - 203</td>\n",
       "      <td>AMERICAN AIRLINES INC</td>\n",
       "      <td>Internacional</td>\n",
       "      <td>2016-01-19T12:13:00Z</td>\n",
       "      <td>2016-01-18T12:03:00Z</td>\n",
       "      <td>2016-01-19T21:30:00Z</td>\n",
       "      <td>2016-01-18T20:41:00Z</td>\n",
       "      <td>Realizado</td>\n",
       "      <td>LIBERACAO SERV. TRAFEGO AEREO/ANTECIPACAO</td>\n",
       "      <td>Salgado Filho</td>\n",
       "      <td>...</td>\n",
       "      <td>RS</td>\n",
       "      <td>Brasil</td>\n",
       "      <td>Miami</td>\n",
       "      <td>Miami</td>\n",
       "      <td>N/I</td>\n",
       "      <td>Estados Unidos</td>\n",
       "      <td>-80.287046</td>\n",
       "      <td>25.795865</td>\n",
       "      <td>-51.175381</td>\n",
       "      <td>-29.993473</td>\n",
       "    </tr>\n",
       "    <tr>\n",
       "      <th>4</th>\n",
       "      <td>AAL - 203</td>\n",
       "      <td>AMERICAN AIRLINES INC</td>\n",
       "      <td>Internacional</td>\n",
       "      <td>2016-01-30T12:13:00Z</td>\n",
       "      <td>2016-01-30T12:13:00Z</td>\n",
       "      <td>2016-01-30T21:30:00Z</td>\n",
       "      <td>2016-01-30T21:30:00Z</td>\n",
       "      <td>Realizado</td>\n",
       "      <td>NaN</td>\n",
       "      <td>Salgado Filho</td>\n",
       "      <td>...</td>\n",
       "      <td>RS</td>\n",
       "      <td>Brasil</td>\n",
       "      <td>Miami</td>\n",
       "      <td>Miami</td>\n",
       "      <td>N/I</td>\n",
       "      <td>Estados Unidos</td>\n",
       "      <td>-80.287046</td>\n",
       "      <td>25.795865</td>\n",
       "      <td>-51.175381</td>\n",
       "      <td>-29.993473</td>\n",
       "    </tr>\n",
       "  </tbody>\n",
       "</table>\n",
       "<p>5 rows × 21 columns</p>\n",
       "</div>"
      ],
      "text/plain": [
       "        Voos        Companhia.Aerea Codigo.Tipo.Linha      Partida.Prevista  \\\n",
       "0  AAL - 203  AMERICAN AIRLINES INC     Internacional  2016-01-30T08:58:00Z   \n",
       "1  AAL - 203  AMERICAN AIRLINES INC     Internacional  2016-01-13T12:13:00Z   \n",
       "2  AAL - 203  AMERICAN AIRLINES INC     Internacional  2016-01-29T12:13:00Z   \n",
       "3  AAL - 203  AMERICAN AIRLINES INC     Internacional  2016-01-19T12:13:00Z   \n",
       "4  AAL - 203  AMERICAN AIRLINES INC     Internacional  2016-01-30T12:13:00Z   \n",
       "\n",
       "           Partida.Real      Chegada.Prevista          Chegada.Real  \\\n",
       "0  2016-01-30T08:58:00Z  2016-01-30T10:35:00Z  2016-01-30T10:35:00Z   \n",
       "1  2016-01-13T12:13:00Z  2016-01-13T21:30:00Z  2016-01-13T21:30:00Z   \n",
       "2  2016-01-29T12:13:00Z  2016-01-29T21:30:00Z  2016-01-29T21:30:00Z   \n",
       "3  2016-01-18T12:03:00Z  2016-01-19T21:30:00Z  2016-01-18T20:41:00Z   \n",
       "4  2016-01-30T12:13:00Z  2016-01-30T21:30:00Z  2016-01-30T21:30:00Z   \n",
       "\n",
       "  Situacao.Voo                       Codigo.Justificativa Aeroporto.Origem  \\\n",
       "0    Realizado                                        NaN      Afonso Pena   \n",
       "1    Realizado                                        NaN    Salgado Filho   \n",
       "2    Realizado                                        NaN    Salgado Filho   \n",
       "3    Realizado  LIBERACAO SERV. TRAFEGO AEREO/ANTECIPACAO    Salgado Filho   \n",
       "4    Realizado                                        NaN    Salgado Filho   \n",
       "\n",
       "   ... Estado.Origem Pais.Origem Aeroporto.Destino Cidade.Destino  \\\n",
       "0  ...            PR      Brasil     Salgado Filho   Porto Alegre   \n",
       "1  ...            RS      Brasil             Miami          Miami   \n",
       "2  ...            RS      Brasil             Miami          Miami   \n",
       "3  ...            RS      Brasil             Miami          Miami   \n",
       "4  ...            RS      Brasil             Miami          Miami   \n",
       "\n",
       "  Estado.Destino    Pais.Destino   LongDest    LatDest   LongOrig    LatOrig  \n",
       "0             RS          Brasil -51.175381 -29.993473 -49.172481 -25.532713  \n",
       "1            N/I  Estados Unidos -80.287046  25.795865 -51.175381 -29.993473  \n",
       "2            N/I  Estados Unidos -80.287046  25.795865 -51.175381 -29.993473  \n",
       "3            N/I  Estados Unidos -80.287046  25.795865 -51.175381 -29.993473  \n",
       "4            N/I  Estados Unidos -80.287046  25.795865 -51.175381 -29.993473  \n",
       "\n",
       "[5 rows x 21 columns]"
      ]
     },
     "execution_count": 100,
     "metadata": {},
     "output_type": "execute_result"
    }
   ],
   "source": [
    "#Lista as primeiras 5 linhas do csv\n",
    "df.head(5)"
   ]
  },
  {
   "cell_type": "code",
   "execution_count": 101,
   "metadata": {
    "colab": {
     "base_uri": "https://localhost:8080/"
    },
    "id": "olSheV5LX-TH",
    "outputId": "c8998e84-4412-4a2f-bc5d-d1059f9b21e6"
   },
   "outputs": [
    {
     "name": "stdout",
     "output_type": "stream",
     "text": [
      "<class 'pandas.core.frame.DataFrame'>\n",
      "RangeIndex: 2368114 entries, 0 to 2368113\n",
      "Data columns (total 21 columns):\n",
      " #   Column                Non-Null Count    Dtype  \n",
      "---  ------                --------------    -----  \n",
      " 0   Voos                  2368114 non-null  object \n",
      " 1   Companhia.Aerea       2368114 non-null  object \n",
      " 2   Codigo.Tipo.Linha     2368114 non-null  object \n",
      " 3   Partida.Prevista      2368114 non-null  object \n",
      " 4   Partida.Real          2100136 non-null  object \n",
      " 5   Chegada.Prevista      2368114 non-null  object \n",
      " 6   Chegada.Real          2100136 non-null  object \n",
      " 7   Situacao.Voo          2368114 non-null  object \n",
      " 8   Codigo.Justificativa  960169 non-null   object \n",
      " 9   Aeroporto.Origem      2368114 non-null  object \n",
      " 10  Cidade.Origem         2368114 non-null  object \n",
      " 11  Estado.Origem         2368114 non-null  object \n",
      " 12  Pais.Origem           2368114 non-null  object \n",
      " 13  Aeroporto.Destino     2368114 non-null  object \n",
      " 14  Cidade.Destino        2368114 non-null  object \n",
      " 15  Estado.Destino        2368114 non-null  object \n",
      " 16  Pais.Destino          2368114 non-null  object \n",
      " 17  LongDest              2368114 non-null  float64\n",
      " 18  LatDest               2368114 non-null  float64\n",
      " 19  LongOrig              2368114 non-null  float64\n",
      " 20  LatOrig               2368114 non-null  float64\n",
      "dtypes: float64(4), object(17)\n",
      "memory usage: 379.4+ MB\n"
     ]
    }
   ],
   "source": [
    "#Mostra contagem dos dados\n",
    "df.info(show_counts=True)"
   ]
  },
  {
   "cell_type": "code",
   "execution_count": 102,
   "metadata": {
    "id": "3v1iuvlMX-TI"
   },
   "outputs": [],
   "source": [
    "# Remove colunas desnecessárias para os dados\n",
    "df = df.drop(columns=['Chegada.Real','Partida.Real','Cidade.Origem','Estado.Origem'\t,'Pais.Origem','Cidade.Destino',\t'Estado.Destino',\t'Pais.Destino','Codigo.Justificativa','Codigo.Tipo.Linha', 'Voos', 'LatDest', 'LatOrig', 'LongDest', 'LongOrig'])\n",
    "df['Chegada.Prevista'] = pd.to_datetime(df['Chegada.Prevista'])\n",
    "df['Partida.Prevista'] = pd.to_datetime(df['Partida.Prevista'])\n",
    "\n",
    "df['Dia.Chegada.Prevista'] = df['Chegada.Prevista'].dt.day\n",
    "df['Mes.Chegada.Prevista'] = df['Chegada.Prevista'].dt.month\n",
    "df['Dia.Partida.Prevista'] = df['Partida.Prevista'].dt.day\n",
    "df['Mes.Partida.Prevista'] = df['Partida.Prevista'].dt.month\n",
    "\n",
    "df = df.drop(columns=['Chegada.Prevista','Partida.Prevista'])"
   ]
  },
  {
   "cell_type": "code",
   "execution_count": 103,
   "metadata": {
    "colab": {
     "base_uri": "https://localhost:8080/",
     "height": 363
    },
    "id": "Jrgjx6F0X-TJ",
    "outputId": "61299f44-a46c-44ab-f5f8-52b713b03049"
   },
   "outputs": [
    {
     "data": {
      "text/html": [
       "<div>\n",
       "<style scoped>\n",
       "    .dataframe tbody tr th:only-of-type {\n",
       "        vertical-align: middle;\n",
       "    }\n",
       "\n",
       "    .dataframe tbody tr th {\n",
       "        vertical-align: top;\n",
       "    }\n",
       "\n",
       "    .dataframe thead th {\n",
       "        text-align: right;\n",
       "    }\n",
       "</style>\n",
       "<table border=\"1\" class=\"dataframe\">\n",
       "  <thead>\n",
       "    <tr style=\"text-align: right;\">\n",
       "      <th></th>\n",
       "      <th>Companhia.Aerea</th>\n",
       "      <th>Situacao.Voo</th>\n",
       "      <th>Aeroporto.Origem</th>\n",
       "      <th>Aeroporto.Destino</th>\n",
       "      <th>Dia.Chegada.Prevista</th>\n",
       "      <th>Mes.Chegada.Prevista</th>\n",
       "      <th>Dia.Partida.Prevista</th>\n",
       "      <th>Mes.Partida.Prevista</th>\n",
       "    </tr>\n",
       "  </thead>\n",
       "  <tbody>\n",
       "    <tr>\n",
       "      <th>0</th>\n",
       "      <td>AMERICAN AIRLINES INC</td>\n",
       "      <td>Realizado</td>\n",
       "      <td>Afonso Pena</td>\n",
       "      <td>Salgado Filho</td>\n",
       "      <td>30</td>\n",
       "      <td>1</td>\n",
       "      <td>30</td>\n",
       "      <td>1</td>\n",
       "    </tr>\n",
       "    <tr>\n",
       "      <th>1</th>\n",
       "      <td>AMERICAN AIRLINES INC</td>\n",
       "      <td>Realizado</td>\n",
       "      <td>Salgado Filho</td>\n",
       "      <td>Miami</td>\n",
       "      <td>13</td>\n",
       "      <td>1</td>\n",
       "      <td>13</td>\n",
       "      <td>1</td>\n",
       "    </tr>\n",
       "    <tr>\n",
       "      <th>2</th>\n",
       "      <td>AMERICAN AIRLINES INC</td>\n",
       "      <td>Realizado</td>\n",
       "      <td>Salgado Filho</td>\n",
       "      <td>Miami</td>\n",
       "      <td>29</td>\n",
       "      <td>1</td>\n",
       "      <td>29</td>\n",
       "      <td>1</td>\n",
       "    </tr>\n",
       "    <tr>\n",
       "      <th>3</th>\n",
       "      <td>AMERICAN AIRLINES INC</td>\n",
       "      <td>Realizado</td>\n",
       "      <td>Salgado Filho</td>\n",
       "      <td>Miami</td>\n",
       "      <td>19</td>\n",
       "      <td>1</td>\n",
       "      <td>19</td>\n",
       "      <td>1</td>\n",
       "    </tr>\n",
       "    <tr>\n",
       "      <th>4</th>\n",
       "      <td>AMERICAN AIRLINES INC</td>\n",
       "      <td>Realizado</td>\n",
       "      <td>Salgado Filho</td>\n",
       "      <td>Miami</td>\n",
       "      <td>30</td>\n",
       "      <td>1</td>\n",
       "      <td>30</td>\n",
       "      <td>1</td>\n",
       "    </tr>\n",
       "    <tr>\n",
       "      <th>5</th>\n",
       "      <td>AMERICAN AIRLINES INC</td>\n",
       "      <td>Realizado</td>\n",
       "      <td>Miami</td>\n",
       "      <td>Afonso Pena</td>\n",
       "      <td>4</td>\n",
       "      <td>1</td>\n",
       "      <td>3</td>\n",
       "      <td>1</td>\n",
       "    </tr>\n",
       "    <tr>\n",
       "      <th>6</th>\n",
       "      <td>AMERICAN AIRLINES INC</td>\n",
       "      <td>Realizado</td>\n",
       "      <td>Miami</td>\n",
       "      <td>Afonso Pena</td>\n",
       "      <td>6</td>\n",
       "      <td>1</td>\n",
       "      <td>5</td>\n",
       "      <td>1</td>\n",
       "    </tr>\n",
       "    <tr>\n",
       "      <th>7</th>\n",
       "      <td>AMERICAN AIRLINES INC</td>\n",
       "      <td>Realizado</td>\n",
       "      <td>Salgado Filho</td>\n",
       "      <td>Miami</td>\n",
       "      <td>18</td>\n",
       "      <td>1</td>\n",
       "      <td>18</td>\n",
       "      <td>1</td>\n",
       "    </tr>\n",
       "    <tr>\n",
       "      <th>8</th>\n",
       "      <td>AMERICAN AIRLINES INC</td>\n",
       "      <td>Realizado</td>\n",
       "      <td>Miami</td>\n",
       "      <td>Afonso Pena</td>\n",
       "      <td>23</td>\n",
       "      <td>1</td>\n",
       "      <td>22</td>\n",
       "      <td>1</td>\n",
       "    </tr>\n",
       "    <tr>\n",
       "      <th>9</th>\n",
       "      <td>AMERICAN AIRLINES INC</td>\n",
       "      <td>Realizado</td>\n",
       "      <td>Miami</td>\n",
       "      <td>Afonso Pena</td>\n",
       "      <td>16</td>\n",
       "      <td>1</td>\n",
       "      <td>15</td>\n",
       "      <td>1</td>\n",
       "    </tr>\n",
       "  </tbody>\n",
       "</table>\n",
       "</div>"
      ],
      "text/plain": [
       "         Companhia.Aerea Situacao.Voo Aeroporto.Origem Aeroporto.Destino  \\\n",
       "0  AMERICAN AIRLINES INC    Realizado      Afonso Pena     Salgado Filho   \n",
       "1  AMERICAN AIRLINES INC    Realizado    Salgado Filho             Miami   \n",
       "2  AMERICAN AIRLINES INC    Realizado    Salgado Filho             Miami   \n",
       "3  AMERICAN AIRLINES INC    Realizado    Salgado Filho             Miami   \n",
       "4  AMERICAN AIRLINES INC    Realizado    Salgado Filho             Miami   \n",
       "5  AMERICAN AIRLINES INC    Realizado            Miami       Afonso Pena   \n",
       "6  AMERICAN AIRLINES INC    Realizado            Miami       Afonso Pena   \n",
       "7  AMERICAN AIRLINES INC    Realizado    Salgado Filho             Miami   \n",
       "8  AMERICAN AIRLINES INC    Realizado            Miami       Afonso Pena   \n",
       "9  AMERICAN AIRLINES INC    Realizado            Miami       Afonso Pena   \n",
       "\n",
       "   Dia.Chegada.Prevista  Mes.Chegada.Prevista  Dia.Partida.Prevista  \\\n",
       "0                    30                     1                    30   \n",
       "1                    13                     1                    13   \n",
       "2                    29                     1                    29   \n",
       "3                    19                     1                    19   \n",
       "4                    30                     1                    30   \n",
       "5                     4                     1                     3   \n",
       "6                     6                     1                     5   \n",
       "7                    18                     1                    18   \n",
       "8                    23                     1                    22   \n",
       "9                    16                     1                    15   \n",
       "\n",
       "   Mes.Partida.Prevista  \n",
       "0                     1  \n",
       "1                     1  \n",
       "2                     1  \n",
       "3                     1  \n",
       "4                     1  \n",
       "5                     1  \n",
       "6                     1  \n",
       "7                     1  \n",
       "8                     1  \n",
       "9                     1  "
      ]
     },
     "execution_count": 103,
     "metadata": {},
     "output_type": "execute_result"
    }
   ],
   "source": [
    "#Lista as primeiras 10 linhas do csv\n",
    "df.head(10)\n"
   ]
  },
  {
   "cell_type": "code",
   "execution_count": 104,
   "metadata": {
    "colab": {
     "base_uri": "https://localhost:8080/"
    },
    "id": "lnjOISzbX-TK",
    "outputId": "37485cf3-73ee-43d4-b662-88017d9d4ade"
   },
   "outputs": [
    {
     "name": "stdout",
     "output_type": "stream",
     "text": [
      "<class 'pandas.core.frame.DataFrame'>\n",
      "RangeIndex: 2368114 entries, 0 to 2368113\n",
      "Data columns (total 8 columns):\n",
      " #   Column                Non-Null Count    Dtype \n",
      "---  ------                --------------    ----- \n",
      " 0   Companhia.Aerea       2368114 non-null  object\n",
      " 1   Situacao.Voo          2368114 non-null  object\n",
      " 2   Aeroporto.Origem      2368114 non-null  object\n",
      " 3   Aeroporto.Destino     2368114 non-null  object\n",
      " 4   Dia.Chegada.Prevista  2368114 non-null  int32 \n",
      " 5   Mes.Chegada.Prevista  2368114 non-null  int32 \n",
      " 6   Dia.Partida.Prevista  2368114 non-null  int32 \n",
      " 7   Mes.Partida.Prevista  2368114 non-null  int32 \n",
      "dtypes: int32(4), object(4)\n",
      "memory usage: 108.4+ MB\n"
     ]
    }
   ],
   "source": [
    "#Mostra novamente a contagem das colunas\n",
    "df.info(show_counts=True)"
   ]
  },
  {
   "cell_type": "code",
   "execution_count": 105,
   "metadata": {
    "colab": {
     "base_uri": "https://localhost:8080/",
     "height": 458
    },
    "id": "hm8TyHWeX-TL",
    "outputId": "a4de6b07-f7e2-4bf3-e5bc-1129001b95cf"
   },
   "outputs": [
    {
     "data": {
      "text/plain": [
       "0          False\n",
       "1          False\n",
       "2          False\n",
       "3          False\n",
       "4          False\n",
       "           ...  \n",
       "2368109     True\n",
       "2368110     True\n",
       "2368111     True\n",
       "2368112     True\n",
       "2368113     True\n",
       "Length: 2368114, dtype: bool"
      ]
     },
     "execution_count": 105,
     "metadata": {},
     "output_type": "execute_result"
    }
   ],
   "source": [
    "#Verifica se há alguma linha duplicada\n",
    "df.duplicated()"
   ]
  },
  {
   "cell_type": "code",
   "execution_count": 106,
   "metadata": {
    "colab": {
     "base_uri": "https://localhost:8080/",
     "height": 626
    },
    "id": "TsAmYyUtX-TN",
    "outputId": "efbdb7f3-6126-427a-9d81-a46ee1c38749"
   },
   "outputs": [
    {
     "data": {
      "text/plain": [
       "Situacao.Voo\n",
       "Realizado    2100136\n",
       "Cancelado     267978\n",
       "Name: count, dtype: int64"
      ]
     },
     "metadata": {},
     "output_type": "display_data"
    },
    {
     "data": {
      "image/png": "[encoded data removed]",
      "text/plain": [
       "<Figure size 640x480 with 1 Axes>"
      ]
     },
     "metadata": {},
     "output_type": "display_data"
    }
   ],
   "source": [
    "#Mostra a distribuição das classes\n",
    "#Nesse caso é normal que haja mais voos concluídos do que cancelados\n",
    "import seaborn as sns\n",
    "import matplotlib.pyplot as plt\n",
    "\n",
    "display(df['Situacao.Voo'].value_counts())\n",
    "sns.countplot(x='Situacao.Voo', data=df)\n",
    "\n",
    "plt.show()"
   ]
  },
  {
   "cell_type": "code",
   "execution_count": 107,
   "metadata": {
    "id": "8sPMUGfr7do7"
   },
   "outputs": [],
   "source": [
    "# salva os dados limpos\n",
    "df.to_csv(f\"{base_path}/cleaned.csv\", index=False)"
   ]
  },
  {
   "cell_type": "code",
   "execution_count": 108,
   "metadata": {
    "colab": {
     "base_uri": "https://localhost:8080/",
     "height": 269
    },
    "id": "5qxnXMjpFQxx",
    "outputId": "917b79d4-1ddc-4645-d75d-6047a8541b3e"
   },
   "outputs": [
    {
     "data": {
      "text/html": [
       "<div>\n",
       "<style scoped>\n",
       "    .dataframe tbody tr th:only-of-type {\n",
       "        vertical-align: middle;\n",
       "    }\n",
       "\n",
       "    .dataframe tbody tr th {\n",
       "        vertical-align: top;\n",
       "    }\n",
       "\n",
       "    .dataframe thead th {\n",
       "        text-align: right;\n",
       "    }\n",
       "</style>\n",
       "<table border=\"1\" class=\"dataframe\">\n",
       "  <thead>\n",
       "    <tr style=\"text-align: right;\">\n",
       "      <th></th>\n",
       "      <th>Companhia.Aerea</th>\n",
       "      <th>Aeroporto.Origem</th>\n",
       "      <th>Aeroporto.Destino</th>\n",
       "      <th>Dia.Chegada.Prevista</th>\n",
       "      <th>Mes.Chegada.Prevista</th>\n",
       "      <th>Dia.Partida.Prevista</th>\n",
       "      <th>Mes.Partida.Prevista</th>\n",
       "    </tr>\n",
       "  </thead>\n",
       "  <tbody>\n",
       "    <tr>\n",
       "      <th>Companhia.Aerea</th>\n",
       "      <td>1.000000</td>\n",
       "      <td>-0.131203</td>\n",
       "      <td>-0.131060</td>\n",
       "      <td>0.000203</td>\n",
       "      <td>-0.009871</td>\n",
       "      <td>0.000083</td>\n",
       "      <td>-0.009965</td>\n",
       "    </tr>\n",
       "    <tr>\n",
       "      <th>Aeroporto.Origem</th>\n",
       "      <td>-0.131203</td>\n",
       "      <td>1.000000</td>\n",
       "      <td>0.026116</td>\n",
       "      <td>-0.000258</td>\n",
       "      <td>0.000783</td>\n",
       "      <td>-0.000307</td>\n",
       "      <td>0.000876</td>\n",
       "    </tr>\n",
       "    <tr>\n",
       "      <th>Aeroporto.Destino</th>\n",
       "      <td>-0.131060</td>\n",
       "      <td>0.026116</td>\n",
       "      <td>1.000000</td>\n",
       "      <td>-0.000227</td>\n",
       "      <td>0.000164</td>\n",
       "      <td>-0.000358</td>\n",
       "      <td>0.000251</td>\n",
       "    </tr>\n",
       "    <tr>\n",
       "      <th>Dia.Chegada.Prevista</th>\n",
       "      <td>0.000203</td>\n",
       "      <td>-0.000258</td>\n",
       "      <td>-0.000227</td>\n",
       "      <td>1.000000</td>\n",
       "      <td>0.013345</td>\n",
       "      <td>0.982953</td>\n",
       "      <td>0.014448</td>\n",
       "    </tr>\n",
       "    <tr>\n",
       "      <th>Mes.Chegada.Prevista</th>\n",
       "      <td>-0.009871</td>\n",
       "      <td>0.000783</td>\n",
       "      <td>0.000164</td>\n",
       "      <td>0.013345</td>\n",
       "      <td>1.000000</td>\n",
       "      <td>0.015213</td>\n",
       "      <td>0.999442</td>\n",
       "    </tr>\n",
       "    <tr>\n",
       "      <th>Dia.Partida.Prevista</th>\n",
       "      <td>0.000083</td>\n",
       "      <td>-0.000307</td>\n",
       "      <td>-0.000358</td>\n",
       "      <td>0.982953</td>\n",
       "      <td>0.015213</td>\n",
       "      <td>1.000000</td>\n",
       "      <td>0.014125</td>\n",
       "    </tr>\n",
       "    <tr>\n",
       "      <th>Mes.Partida.Prevista</th>\n",
       "      <td>-0.009965</td>\n",
       "      <td>0.000876</td>\n",
       "      <td>0.000251</td>\n",
       "      <td>0.014448</td>\n",
       "      <td>0.999442</td>\n",
       "      <td>0.014125</td>\n",
       "      <td>1.000000</td>\n",
       "    </tr>\n",
       "  </tbody>\n",
       "</table>\n",
       "</div>"
      ],
      "text/plain": [
       "                      Companhia.Aerea  Aeroporto.Origem  Aeroporto.Destino  \\\n",
       "Companhia.Aerea              1.000000         -0.131203          -0.131060   \n",
       "Aeroporto.Origem            -0.131203          1.000000           0.026116   \n",
       "Aeroporto.Destino           -0.131060          0.026116           1.000000   \n",
       "Dia.Chegada.Prevista         0.000203         -0.000258          -0.000227   \n",
       "Mes.Chegada.Prevista        -0.009871          0.000783           0.000164   \n",
       "Dia.Partida.Prevista         0.000083         -0.000307          -0.000358   \n",
       "Mes.Partida.Prevista        -0.009965          0.000876           0.000251   \n",
       "\n",
       "                      Dia.Chegada.Prevista  Mes.Chegada.Prevista  \\\n",
       "Companhia.Aerea                   0.000203             -0.009871   \n",
       "Aeroporto.Origem                 -0.000258              0.000783   \n",
       "Aeroporto.Destino                -0.000227              0.000164   \n",
       "Dia.Chegada.Prevista              1.000000              0.013345   \n",
       "Mes.Chegada.Prevista              0.013345              1.000000   \n",
       "Dia.Partida.Prevista              0.982953              0.015213   \n",
       "Mes.Partida.Prevista              0.014448              0.999442   \n",
       "\n",
       "                      Dia.Partida.Prevista  Mes.Partida.Prevista  \n",
       "Companhia.Aerea                   0.000083             -0.009965  \n",
       "Aeroporto.Origem                 -0.000307              0.000876  \n",
       "Aeroporto.Destino                -0.000358              0.000251  \n",
       "Dia.Chegada.Prevista              0.982953              0.014448  \n",
       "Mes.Chegada.Prevista              0.015213              0.999442  \n",
       "Dia.Partida.Prevista              1.000000              0.014125  \n",
       "Mes.Partida.Prevista              0.014125              1.000000  "
      ]
     },
     "execution_count": 108,
     "metadata": {},
     "output_type": "execute_result"
    }
   ],
   "source": [
    "\n",
    "\n",
    "categorical_cols = ['Companhia.Aerea', 'Aeroporto.Origem', 'Aeroporto.Destino']\n",
    "\n",
    "category_mappings = {}\n",
    "# Transforma as colunas categóricas em valores numéricos\n",
    "for col in categorical_cols:\n",
    "    df[col] = df[col].astype('category')\n",
    "\n",
    "    category_mappings[col] = df[col].cat.categories\n",
    "\n",
    "for col in categorical_cols:\n",
    "    df[col] = df[col].cat.codes\n",
    "\n",
    "# Salva as colunas para as previsões\n",
    "import pickle\n",
    "with open(f'{base_path}/category_mappings.pkl', 'wb') as f:\n",
    "    pickle.dump(category_mappings, f)\n",
    "\n",
    "# Remove a classe para correlação\n",
    "df_values = df.drop(columns=[\"Situacao.Voo\"])\n",
    "df_correlation = df_values.corr()\n",
    "\n",
    "\n",
    "df_correlation"
   ]
  },
  {
   "cell_type": "code",
   "execution_count": 109,
   "metadata": {
    "id": "XuBOOyrj7do7"
   },
   "outputs": [],
   "source": [
    "# salva os dados pré processados\n",
    "df.to_csv(f\"{base_path}/pre_processed.csv\", index=False)"
   ]
  },
  {
   "cell_type": "code",
   "execution_count": 110,
   "metadata": {
    "id": "FsIM8aaJGcy4"
   },
   "outputs": [],
   "source": [
    "from sklearn.model_selection import train_test_split\n",
    "\n",
    "y = df[\"Situacao.Voo\"]\n",
    "x = df.drop(\"Situacao.Voo\", axis=1)\n",
    "\n",
    "\n",
    "X_train, x_test, Y_train, y_test = train_test_split(x, y, test_size=0.3, random_state=1)"
   ]
  },
  {
   "cell_type": "code",
   "execution_count": 111,
   "metadata": {
    "colab": {
     "base_uri": "https://localhost:8080/",
     "height": 423
    },
    "id": "YlydpP7g7do8",
    "outputId": "71094413-8978-4ec1-e4c3-fa03b523ee25"
   },
   "outputs": [
    {
     "data": {
      "text/html": [
       "<div>\n",
       "<style scoped>\n",
       "    .dataframe tbody tr th:only-of-type {\n",
       "        vertical-align: middle;\n",
       "    }\n",
       "\n",
       "    .dataframe tbody tr th {\n",
       "        vertical-align: top;\n",
       "    }\n",
       "\n",
       "    .dataframe thead th {\n",
       "        text-align: right;\n",
       "    }\n",
       "</style>\n",
       "<table border=\"1\" class=\"dataframe\">\n",
       "  <thead>\n",
       "    <tr style=\"text-align: right;\">\n",
       "      <th></th>\n",
       "      <th>Companhia.Aerea</th>\n",
       "      <th>Aeroporto.Origem</th>\n",
       "      <th>Aeroporto.Destino</th>\n",
       "      <th>Dia.Chegada.Prevista</th>\n",
       "      <th>Mes.Chegada.Prevista</th>\n",
       "      <th>Dia.Partida.Prevista</th>\n",
       "      <th>Mes.Partida.Prevista</th>\n",
       "    </tr>\n",
       "  </thead>\n",
       "  <tbody>\n",
       "    <tr>\n",
       "      <th>0</th>\n",
       "      <td>8</td>\n",
       "      <td>6</td>\n",
       "      <td>155</td>\n",
       "      <td>30</td>\n",
       "      <td>1</td>\n",
       "      <td>30</td>\n",
       "      <td>1</td>\n",
       "    </tr>\n",
       "    <tr>\n",
       "      <th>1</th>\n",
       "      <td>8</td>\n",
       "      <td>155</td>\n",
       "      <td>112</td>\n",
       "      <td>13</td>\n",
       "      <td>1</td>\n",
       "      <td>13</td>\n",
       "      <td>1</td>\n",
       "    </tr>\n",
       "    <tr>\n",
       "      <th>2</th>\n",
       "      <td>8</td>\n",
       "      <td>155</td>\n",
       "      <td>112</td>\n",
       "      <td>29</td>\n",
       "      <td>1</td>\n",
       "      <td>29</td>\n",
       "      <td>1</td>\n",
       "    </tr>\n",
       "    <tr>\n",
       "      <th>3</th>\n",
       "      <td>8</td>\n",
       "      <td>155</td>\n",
       "      <td>112</td>\n",
       "      <td>19</td>\n",
       "      <td>1</td>\n",
       "      <td>19</td>\n",
       "      <td>1</td>\n",
       "    </tr>\n",
       "    <tr>\n",
       "      <th>4</th>\n",
       "      <td>8</td>\n",
       "      <td>155</td>\n",
       "      <td>112</td>\n",
       "      <td>30</td>\n",
       "      <td>1</td>\n",
       "      <td>30</td>\n",
       "      <td>1</td>\n",
       "    </tr>\n",
       "    <tr>\n",
       "      <th>...</th>\n",
       "      <td>...</td>\n",
       "      <td>...</td>\n",
       "      <td>...</td>\n",
       "      <td>...</td>\n",
       "      <td>...</td>\n",
       "      <td>...</td>\n",
       "      <td>...</td>\n",
       "    </tr>\n",
       "    <tr>\n",
       "      <th>2368109</th>\n",
       "      <td>12</td>\n",
       "      <td>3</td>\n",
       "      <td>178</td>\n",
       "      <td>15</td>\n",
       "      <td>11</td>\n",
       "      <td>15</td>\n",
       "      <td>11</td>\n",
       "    </tr>\n",
       "    <tr>\n",
       "      <th>2368110</th>\n",
       "      <td>12</td>\n",
       "      <td>3</td>\n",
       "      <td>178</td>\n",
       "      <td>21</td>\n",
       "      <td>11</td>\n",
       "      <td>21</td>\n",
       "      <td>11</td>\n",
       "    </tr>\n",
       "    <tr>\n",
       "      <th>2368111</th>\n",
       "      <td>12</td>\n",
       "      <td>3</td>\n",
       "      <td>178</td>\n",
       "      <td>13</td>\n",
       "      <td>11</td>\n",
       "      <td>13</td>\n",
       "      <td>11</td>\n",
       "    </tr>\n",
       "    <tr>\n",
       "      <th>2368112</th>\n",
       "      <td>12</td>\n",
       "      <td>3</td>\n",
       "      <td>178</td>\n",
       "      <td>6</td>\n",
       "      <td>11</td>\n",
       "      <td>6</td>\n",
       "      <td>11</td>\n",
       "    </tr>\n",
       "    <tr>\n",
       "      <th>2368113</th>\n",
       "      <td>12</td>\n",
       "      <td>3</td>\n",
       "      <td>178</td>\n",
       "      <td>2</td>\n",
       "      <td>11</td>\n",
       "      <td>2</td>\n",
       "      <td>11</td>\n",
       "    </tr>\n",
       "  </tbody>\n",
       "</table>\n",
       "<p>2368114 rows × 7 columns</p>\n",
       "</div>"
      ],
      "text/plain": [
       "         Companhia.Aerea  Aeroporto.Origem  Aeroporto.Destino  \\\n",
       "0                      8                 6                155   \n",
       "1                      8               155                112   \n",
       "2                      8               155                112   \n",
       "3                      8               155                112   \n",
       "4                      8               155                112   \n",
       "...                  ...               ...                ...   \n",
       "2368109               12                 3                178   \n",
       "2368110               12                 3                178   \n",
       "2368111               12                 3                178   \n",
       "2368112               12                 3                178   \n",
       "2368113               12                 3                178   \n",
       "\n",
       "         Dia.Chegada.Prevista  Mes.Chegada.Prevista  Dia.Partida.Prevista  \\\n",
       "0                          30                     1                    30   \n",
       "1                          13                     1                    13   \n",
       "2                          29                     1                    29   \n",
       "3                          19                     1                    19   \n",
       "4                          30                     1                    30   \n",
       "...                       ...                   ...                   ...   \n",
       "2368109                    15                    11                    15   \n",
       "2368110                    21                    11                    21   \n",
       "2368111                    13                    11                    13   \n",
       "2368112                     6                    11                     6   \n",
       "2368113                     2                    11                     2   \n",
       "\n",
       "         Mes.Partida.Prevista  \n",
       "0                           1  \n",
       "1                           1  \n",
       "2                           1  \n",
       "3                           1  \n",
       "4                           1  \n",
       "...                       ...  \n",
       "2368109                    11  \n",
       "2368110                    11  \n",
       "2368111                    11  \n",
       "2368112                    11  \n",
       "2368113                    11  \n",
       "\n",
       "[2368114 rows x 7 columns]"
      ]
     },
     "execution_count": 111,
     "metadata": {},
     "output_type": "execute_result"
    }
   ],
   "source": [
    "x\n"
   ]
  },
  {
   "cell_type": "code",
   "execution_count": 112,
   "metadata": {
    "colab": {
     "base_uri": "https://localhost:8080/"
    },
    "id": "c-mmqf98Gh4K",
    "outputId": "3e66766c-91ec-4baa-ba0b-11c0449e1b6d"
   },
   "outputs": [
    {
     "name": "stderr",
     "output_type": "stream",
     "text": [
      "/home/gabriel/Projetos/Pessoal/pi-5/myenv/lib/python3.12/site-packages/sklearn/linear_model/_logistic.py:1256: FutureWarning: 'multi_class' was deprecated in version 1.5 and will be removed in 1.7. Use OneVsRestClassifier(LogisticRegression(..)) instead. Leave it to its default value to avoid this warning.\n",
      "  warnings.warn(\n",
      "/home/gabriel/Projetos/Pessoal/pi-5/myenv/lib/python3.12/site-packages/sklearn/linear_model/_logistic.py:1256: FutureWarning: 'multi_class' was deprecated in version 1.5 and will be removed in 1.7. Use OneVsRestClassifier(LogisticRegression(..)) instead. Leave it to its default value to avoid this warning.\n",
      "  warnings.warn(\n",
      "/home/gabriel/Projetos/Pessoal/pi-5/myenv/lib/python3.12/site-packages/sklearn/linear_model/_logistic.py:1256: FutureWarning: 'multi_class' was deprecated in version 1.5 and will be removed in 1.7. Use OneVsRestClassifier(LogisticRegression(..)) instead. Leave it to its default value to avoid this warning.\n",
      "  warnings.warn(\n",
      "/home/gabriel/Projetos/Pessoal/pi-5/myenv/lib/python3.12/site-packages/sklearn/linear_model/_logistic.py:1256: FutureWarning: 'multi_class' was deprecated in version 1.5 and will be removed in 1.7. Use OneVsRestClassifier(LogisticRegression(..)) instead. Leave it to its default value to avoid this warning.\n",
      "  warnings.warn(\n",
      "/home/gabriel/Projetos/Pessoal/pi-5/myenv/lib/python3.12/site-packages/sklearn/linear_model/_logistic.py:1256: FutureWarning: 'multi_class' was deprecated in version 1.5 and will be removed in 1.7. Use OneVsRestClassifier(LogisticRegression(..)) instead. Leave it to its default value to avoid this warning.\n",
      "  warnings.warn(\n",
      "/home/gabriel/Projetos/Pessoal/pi-5/myenv/lib/python3.12/site-packages/sklearn/linear_model/_logistic.py:1256: FutureWarning: 'multi_class' was deprecated in version 1.5 and will be removed in 1.7. Use OneVsRestClassifier(LogisticRegression(..)) instead. Leave it to its default value to avoid this warning.\n",
      "  warnings.warn(\n",
      "/home/gabriel/Projetos/Pessoal/pi-5/myenv/lib/python3.12/site-packages/sklearn/linear_model/_logistic.py:1256: FutureWarning: 'multi_class' was deprecated in version 1.5 and will be removed in 1.7. Use OneVsRestClassifier(LogisticRegression(..)) instead. Leave it to its default value to avoid this warning.\n",
      "  warnings.warn(\n",
      "/home/gabriel/Projetos/Pessoal/pi-5/myenv/lib/python3.12/site-packages/sklearn/linear_model/_logistic.py:1256: FutureWarning: 'multi_class' was deprecated in version 1.5 and will be removed in 1.7. Use OneVsRestClassifier(LogisticRegression(..)) instead. Leave it to its default value to avoid this warning.\n",
      "  warnings.warn(\n",
      "/home/gabriel/Projetos/Pessoal/pi-5/myenv/lib/python3.12/site-packages/sklearn/linear_model/_logistic.py:1256: FutureWarning: 'multi_class' was deprecated in version 1.5 and will be removed in 1.7. Use OneVsRestClassifier(LogisticRegression(..)) instead. Leave it to its default value to avoid this warning.\n",
      "  warnings.warn(\n",
      "/home/gabriel/Projetos/Pessoal/pi-5/myenv/lib/python3.12/site-packages/sklearn/linear_model/_logistic.py:1256: FutureWarning: 'multi_class' was deprecated in version 1.5 and will be removed in 1.7. Use OneVsRestClassifier(LogisticRegression(..)) instead. Leave it to its default value to avoid this warning.\n",
      "  warnings.warn(\n"
     ]
    },
    {
     "name": "stdout",
     "output_type": "stream",
     "text": [
      "LR: 0.886813 (0.001058)\n",
      "LDA: 0.886803 (0.001065)\n",
      "KNN: 0.877322 (0.000964)\n",
      "CART: 0.845872 (0.000996)\n",
      "NB: 0.886813 (0.001058)\n"
     ]
    }
   ],
   "source": [
    "from sklearn.metrics import classification_report\n",
    "from sklearn.metrics import confusion_matrix\n",
    "from sklearn.metrics import accuracy_score\n",
    "from sklearn.linear_model import LogisticRegression\n",
    "from sklearn.tree import DecisionTreeClassifier\n",
    "from sklearn.neighbors import KNeighborsClassifier\n",
    "from sklearn.discriminant_analysis import LinearDiscriminantAnalysis\n",
    "from sklearn.naive_bayes import GaussianNB\n",
    "from sklearn.model_selection import KFold, cross_val_score\n",
    "\n",
    "seed = 7\n",
    "scoring = 'accuracy'\n",
    "\n",
    "models = []\n",
    "models.append(('LR', LogisticRegression(solver='liblinear', multi_class='ovr')))\n",
    "models.append(('LDA', LinearDiscriminantAnalysis()))\n",
    "models.append(('KNN', KNeighborsClassifier()))\n",
    "models.append(('CART', DecisionTreeClassifier()))\n",
    "models.append(('NB', GaussianNB()))\n",
    "\n",
    "results = []\n",
    "names = []\n",
    "for name, model in models:\n",
    "   kfold = KFold(n_splits=10, shuffle=True, random_state=seed)\n",
    "   cv_results = cross_val_score(model, X_train, Y_train, cv=kfold, scoring=scoring)\n",
    "   results.append(cv_results)\n",
    "   names.append(name)\n",
    "\n",
    "   msg = '%s: %f (%f)' % (name, cv_results.mean(), cv_results.std())\n",
    "   print(msg)\n"
   ]
  },
  {
   "cell_type": "code",
   "execution_count": 113,
   "metadata": {
    "colab": {
     "base_uri": "https://localhost:8080/",
     "height": 478
    },
    "id": "xnMeFl24KTK5",
    "outputId": "8b95875f-ede8-4cf0-8d87-74d43dfc2fdc"
   },
   "outputs": [
    {
     "data": {
      "image/png": "[encoded data removed]",
      "text/plain": [
       "<Figure size 640x480 with 1 Axes>"
      ]
     },
     "metadata": {},
     "output_type": "display_data"
    }
   ],
   "source": [
    "fig = plt.figure()\n",
    "fig.suptitle('Algorithm Comparison')\n",
    "ax = fig.add_subplot(111)\n",
    "plt.boxplot(results)\n",
    "ax.set_xticklabels(names)\n",
    "plt.show()\n"
   ]
  },
  {
   "cell_type": "code",
   "execution_count": 114,
   "metadata": {
    "colab": {
     "base_uri": "https://localhost:8080/"
    },
    "id": "Tr3Vo-3XKXHQ",
    "outputId": "34587f3d-5839-4ba4-8e7e-26df3f27b949"
   },
   "outputs": [
    {
     "name": "stdout",
     "output_type": "stream",
     "text": [
      "0.8775806372152273\n",
      "[[  9947  70404]\n",
      " [ 16567 613517]]\n",
      "              precision    recall  f1-score   support\n",
      "\n",
      "   Cancelado       0.38      0.12      0.19     80351\n",
      "   Realizado       0.90      0.97      0.93    630084\n",
      "\n",
      "    accuracy                           0.88    710435\n",
      "   macro avg       0.64      0.55      0.56    710435\n",
      "weighted avg       0.84      0.88      0.85    710435\n",
      "\n"
     ]
    }
   ],
   "source": [
    "knn = KNeighborsClassifier()\n",
    "knn.fit(X_train, Y_train)\n",
    "with open(f'{base_path}/knn.pkl', 'wb') as file:\n",
    "  pickle.dump(knn, file)\n",
    "predictions = knn.predict(x_test)\n",
    "print(accuracy_score(y_test, predictions))\n",
    "print(confusion_matrix(y_test, predictions))\n",
    "print(classification_report(y_test, predictions))"
   ]
  },
  {
   "cell_type": "code",
   "execution_count": 115,
   "metadata": {
    "colab": {
     "background_save": true
    },
    "id": "heT1eYcJKZxr",
    "outputId": "115319df-601b-4adc-bcd3-7b1ec9006ac4"
   },
   "outputs": [
    {
     "name": "stderr",
     "output_type": "stream",
     "text": [
      "/home/gabriel/Projetos/Pessoal/pi-5/myenv/lib/python3.12/site-packages/sklearn/linear_model/_logistic.py:1256: FutureWarning: 'multi_class' was deprecated in version 1.5 and will be removed in 1.7. Use OneVsRestClassifier(LogisticRegression(..)) instead. Leave it to its default value to avoid this warning.\n",
      "  warnings.warn(\n"
     ]
    },
    {
     "name": "stdout",
     "output_type": "stream",
     "text": [
      "0.8868988718179707\n",
      "[[     0  80351]\n",
      " [     0 630084]]\n"
     ]
    },
    {
     "name": "stderr",
     "output_type": "stream",
     "text": [
      "/home/gabriel/Projetos/Pessoal/pi-5/myenv/lib/python3.12/site-packages/sklearn/metrics/_classification.py:1531: UndefinedMetricWarning: Precision is ill-defined and being set to 0.0 in labels with no predicted samples. Use `zero_division` parameter to control this behavior.\n",
      "  _warn_prf(average, modifier, f\"{metric.capitalize()} is\", len(result))\n",
      "/home/gabriel/Projetos/Pessoal/pi-5/myenv/lib/python3.12/site-packages/sklearn/metrics/_classification.py:1531: UndefinedMetricWarning: Precision is ill-defined and being set to 0.0 in labels with no predicted samples. Use `zero_division` parameter to control this behavior.\n",
      "  _warn_prf(average, modifier, f\"{metric.capitalize()} is\", len(result))\n"
     ]
    },
    {
     "name": "stdout",
     "output_type": "stream",
     "text": [
      "              precision    recall  f1-score   support\n",
      "\n",
      "   Cancelado       0.00      0.00      0.00     80351\n",
      "   Realizado       0.89      1.00      0.94    630084\n",
      "\n",
      "    accuracy                           0.89    710435\n",
      "   macro avg       0.44      0.50      0.47    710435\n",
      "weighted avg       0.79      0.89      0.83    710435\n",
      "\n"
     ]
    },
    {
     "name": "stderr",
     "output_type": "stream",
     "text": [
      "/home/gabriel/Projetos/Pessoal/pi-5/myenv/lib/python3.12/site-packages/sklearn/metrics/_classification.py:1531: UndefinedMetricWarning: Precision is ill-defined and being set to 0.0 in labels with no predicted samples. Use `zero_division` parameter to control this behavior.\n",
      "  _warn_prf(average, modifier, f\"{metric.capitalize()} is\", len(result))\n"
     ]
    }
   ],
   "source": [
    "lr = LogisticRegression(solver='liblinear', multi_class='ovr')\n",
    "lr.fit(X_train, Y_train)\n",
    "with open(f'{base_path}/lr.pkl', 'wb') as file:\n",
    "  pickle.dump(lr, file)\n",
    "predictions = lr.predict(x_test)\n",
    "print(accuracy_score(y_test, predictions))\n",
    "print(confusion_matrix(y_test, predictions))\n",
    "print(classification_report(y_test, predictions))"
   ]
  },
  {
   "cell_type": "code",
   "execution_count": 116,
   "metadata": {
    "colab": {
     "base_uri": "https://localhost:8080/"
    },
    "id": "ZQaynNQq7do9",
    "outputId": "4a8c2b43-ba5d-49af-e646-27250de525d2"
   },
   "outputs": [
    {
     "name": "stdout",
     "output_type": "stream",
     "text": [
      "0.8868876111115022\n",
      "[[     4  80347]\n",
      " [    12 630072]]\n",
      "              precision    recall  f1-score   support\n",
      "\n",
      "   Cancelado       0.25      0.00      0.00     80351\n",
      "   Realizado       0.89      1.00      0.94    630084\n",
      "\n",
      "    accuracy                           0.89    710435\n",
      "   macro avg       0.57      0.50      0.47    710435\n",
      "weighted avg       0.81      0.89      0.83    710435\n",
      "\n"
     ]
    }
   ],
   "source": [
    "lda = LinearDiscriminantAnalysis()\n",
    "lda.fit(X_train, Y_train)\n",
    "with open(f'{base_path}/lda.pkl', 'wb') as file:\n",
    "  pickle.dump(lda, file)\n",
    "predictions = lda.predict(x_test)\n",
    "print(accuracy_score(y_test, predictions))\n",
    "print(confusion_matrix(y_test, predictions))\n",
    "print(classification_report(y_test, predictions))"
   ]
  },
  {
   "cell_type": "code",
   "execution_count": 117,
   "metadata": {
    "colab": {
     "base_uri": "https://localhost:8080/"
    },
    "id": "MXbnCmq_7do9",
    "outputId": "13c192de-81c5-4ae4-ffbf-965133658a0c"
   },
   "outputs": [
    {
     "name": "stdout",
     "output_type": "stream",
     "text": [
      "0.8484182226382427\n",
      "[[ 15023  65328]\n",
      " [ 42361 587723]]\n",
      "              precision    recall  f1-score   support\n",
      "\n",
      "   Cancelado       0.26      0.19      0.22     80351\n",
      "   Realizado       0.90      0.93      0.92    630084\n",
      "\n",
      "    accuracy                           0.85    710435\n",
      "   macro avg       0.58      0.56      0.57    710435\n",
      "weighted avg       0.83      0.85      0.84    710435\n",
      "\n"
     ]
    }
   ],
   "source": [
    "cart = DecisionTreeClassifier()\n",
    "cart.fit(X_train, Y_train)\n",
    "with open(f'{base_path}/cart.pkl', 'wb') as file:\n",
    "  pickle.dump(cart, file)\n",
    "predictions = cart.predict(x_test)\n",
    "print(accuracy_score(y_test, predictions))\n",
    "print(confusion_matrix(y_test, predictions))\n",
    "print(classification_report(y_test, predictions))"
   ]
  },
  {
   "cell_type": "code",
   "execution_count": 118,
   "metadata": {
    "colab": {
     "base_uri": "https://localhost:8080/"
    },
    "id": "e4ecVL-z7do9",
    "outputId": "6b7177ee-cc5b-4174-fd8f-531816f89641"
   },
   "outputs": [
    {
     "name": "stdout",
     "output_type": "stream",
     "text": [
      "0.8868988718179707\n",
      "[[     0  80351]\n",
      " [     0 630084]]\n"
     ]
    },
    {
     "name": "stderr",
     "output_type": "stream",
     "text": [
      "/home/gabriel/Projetos/Pessoal/pi-5/myenv/lib/python3.12/site-packages/sklearn/metrics/_classification.py:1531: UndefinedMetricWarning: Precision is ill-defined and being set to 0.0 in labels with no predicted samples. Use `zero_division` parameter to control this behavior.\n",
      "  _warn_prf(average, modifier, f\"{metric.capitalize()} is\", len(result))\n",
      "/home/gabriel/Projetos/Pessoal/pi-5/myenv/lib/python3.12/site-packages/sklearn/metrics/_classification.py:1531: UndefinedMetricWarning: Precision is ill-defined and being set to 0.0 in labels with no predicted samples. Use `zero_division` parameter to control this behavior.\n",
      "  _warn_prf(average, modifier, f\"{metric.capitalize()} is\", len(result))\n"
     ]
    },
    {
     "name": "stdout",
     "output_type": "stream",
     "text": [
      "              precision    recall  f1-score   support\n",
      "\n",
      "   Cancelado       0.00      0.00      0.00     80351\n",
      "   Realizado       0.89      1.00      0.94    630084\n",
      "\n",
      "    accuracy                           0.89    710435\n",
      "   macro avg       0.44      0.50      0.47    710435\n",
      "weighted avg       0.79      0.89      0.83    710435\n",
      "\n"
     ]
    },
    {
     "name": "stderr",
     "output_type": "stream",
     "text": [
      "/home/gabriel/Projetos/Pessoal/pi-5/myenv/lib/python3.12/site-packages/sklearn/metrics/_classification.py:1531: UndefinedMetricWarning: Precision is ill-defined and being set to 0.0 in labels with no predicted samples. Use `zero_division` parameter to control this behavior.\n",
      "  _warn_prf(average, modifier, f\"{metric.capitalize()} is\", len(result))\n"
     ]
    }
   ],
   "source": [
    "nb = GaussianNB()\n",
    "nb.fit(X_train, Y_train)\n",
    "with open(f'{base_path}/nb.pkl', 'wb') as file:\n",
    "  pickle.dump(nb, file)\n",
    "predictions = nb.predict(x_test)\n",
    "print(accuracy_score(y_test, predictions))\n",
    "print(confusion_matrix(y_test, predictions))\n",
    "print(classification_report(y_test, predictions))"
   ]
  },
  {
   "cell_type": "code",
   "execution_count": 129,
   "metadata": {
    "colab": {
     "base_uri": "https://localhost:8080/"
    },
    "id": "DeGZa5zb7do9",
    "outputId": "18848492-d9b1-4ffc-ae2a-9d93f86e1de0"
   },
   "outputs": [
    {
     "data": {
      "text/html": [
       "<div>\n",
       "<style scoped>\n",
       "    .dataframe tbody tr th:only-of-type {\n",
       "        vertical-align: middle;\n",
       "    }\n",
       "\n",
       "    .dataframe tbody tr th {\n",
       "        vertical-align: top;\n",
       "    }\n",
       "\n",
       "    .dataframe thead th {\n",
       "        text-align: right;\n",
       "    }\n",
       "</style>\n",
       "<table border=\"1\" class=\"dataframe\">\n",
       "  <thead>\n",
       "    <tr style=\"text-align: right;\">\n",
       "      <th></th>\n",
       "      <th>Companhia.Aerea</th>\n",
       "      <th>Aeroporto.Origem</th>\n",
       "      <th>Aeroporto.Destino</th>\n",
       "      <th>Dia.Chegada.Prevista</th>\n",
       "      <th>Mes.Chegada.Prevista</th>\n",
       "      <th>Dia.Partida.Prevista</th>\n",
       "      <th>Mes.Partida.Prevista</th>\n",
       "    </tr>\n",
       "  </thead>\n",
       "  <tbody>\n",
       "    <tr>\n",
       "      <th>0</th>\n",
       "      <td>8</td>\n",
       "      <td>6</td>\n",
       "      <td>112</td>\n",
       "      <td>22</td>\n",
       "      <td>3</td>\n",
       "      <td>21</td>\n",
       "      <td>3</td>\n",
       "    </tr>\n",
       "    <tr>\n",
       "      <th>1</th>\n",
       "      <td>8</td>\n",
       "      <td>6</td>\n",
       "      <td>112</td>\n",
       "      <td>25</td>\n",
       "      <td>4</td>\n",
       "      <td>25</td>\n",
       "      <td>4</td>\n",
       "    </tr>\n",
       "    <tr>\n",
       "      <th>2</th>\n",
       "      <td>8</td>\n",
       "      <td>112</td>\n",
       "      <td>6</td>\n",
       "      <td>1</td>\n",
       "      <td>12</td>\n",
       "      <td>3</td>\n",
       "      <td>12</td>\n",
       "    </tr>\n",
       "    <tr>\n",
       "      <th>3</th>\n",
       "      <td>12</td>\n",
       "      <td>178</td>\n",
       "      <td>156</td>\n",
       "      <td>12</td>\n",
       "      <td>8</td>\n",
       "      <td>13</td>\n",
       "      <td>8</td>\n",
       "    </tr>\n",
       "    <tr>\n",
       "      <th>4</th>\n",
       "      <td>24</td>\n",
       "      <td>168</td>\n",
       "      <td>135</td>\n",
       "      <td>17</td>\n",
       "      <td>8</td>\n",
       "      <td>17</td>\n",
       "      <td>8</td>\n",
       "    </tr>\n",
       "  </tbody>\n",
       "</table>\n",
       "</div>"
      ],
      "text/plain": [
       "   Companhia.Aerea  Aeroporto.Origem  Aeroporto.Destino  Dia.Chegada.Prevista  \\\n",
       "0                8                 6                112                    22   \n",
       "1                8                 6                112                    25   \n",
       "2                8               112                  6                     1   \n",
       "3               12               178                156                    12   \n",
       "4               24               168                135                    17   \n",
       "\n",
       "   Mes.Chegada.Prevista  Dia.Partida.Prevista  Mes.Partida.Prevista  \n",
       "0                     3                    21                     3  \n",
       "1                     4                    25                     4  \n",
       "2                    12                     3                    12  \n",
       "3                     8                    13                     8  \n",
       "4                     8                    17                     8  "
      ]
     },
     "metadata": {},
     "output_type": "display_data"
    }
   ],
   "source": [
    "nova_tabela = pd.read_csv(f\"{base_path}/base_teste.csv\", sep=',')\n",
    "\n",
    "with open(f'{base_path}/category_mappings.pkl', 'rb') as f:\n",
    "    category_mappings = pickle.load(f)\n",
    "\n",
    "for col in category_mappings:\n",
    "    nova_tabela[col] = pd.Categorical(nova_tabela[col], categories=category_mappings[col])\n",
    "    nova_tabela[col] = nova_tabela[col].cat.codes\n",
    "\n",
    "display(nova_tabela)\n"
   ]
  },
  {
   "cell_type": "code",
   "execution_count": 131,
   "metadata": {
    "colab": {
     "base_uri": "https://localhost:8080/"
    },
    "id": "PNYFkfJy7do9",
    "outputId": "95b37306-5ac2-462f-d00b-acc330bb0738"
   },
   "outputs": [
    {
     "name": "stdout",
     "output_type": "stream",
     "text": [
      "['Realizado' 'Realizado' 'Realizado' 'Realizado' 'Cancelado']\n"
     ]
    }
   ],
   "source": [
    "previsao = knn.predict(nova_tabela)\n",
    "print(previsao)"
   ]
  },
  {
   "cell_type": "code",
   "execution_count": 128,
   "metadata": {
    "colab": {
     "base_uri": "https://localhost:8080/"
    },
    "id": "mXqdGqNU7do9",
    "outputId": "a502c6e1-b2ab-43a5-f145-0a4d96aa6ddf"
   },
   "outputs": [
    {
     "name": "stdout",
     "output_type": "stream",
     "text": [
      "['Realizado' 'Realizado' 'Realizado' 'Realizado' 'Realizado']\n"
     ]
    }
   ],
   "source": [
    "previsao = lr.predict(nova_tabela)\n",
    "print(previsao)"
   ]
  },
  {
   "cell_type": "code",
   "execution_count": 122,
   "metadata": {
    "colab": {
     "base_uri": "https://localhost:8080/"
    },
    "id": "5CceKzgu7do9",
    "outputId": "8ef3c564-b521-4bff-d42c-e70b7e4792bb"
   },
   "outputs": [
    {
     "name": "stdout",
     "output_type": "stream",
     "text": [
      "['Realizado' 'Realizado' 'Realizado' 'Realizado' 'Realizado']\n"
     ]
    }
   ],
   "source": [
    "previsao = lda.predict(nova_tabela)\n",
    "print(previsao)"
   ]
  },
  {
   "cell_type": "code",
   "execution_count": 123,
   "metadata": {
    "colab": {
     "base_uri": "https://localhost:8080/"
    },
    "id": "0335ox9n7do9",
    "outputId": "706229df-7a04-4879-9bff-8360b9f13e3a"
   },
   "outputs": [
    {
     "name": "stdout",
     "output_type": "stream",
     "text": [
      "['Realizado' 'Realizado' 'Realizado' 'Realizado' 'Realizado']\n"
     ]
    }
   ],
   "source": [
    "previsao = cart.predict(nova_tabela)\n",
    "print(previsao)"
   ]
  },
  {
   "cell_type": "code",
   "execution_count": 124,
   "metadata": {
    "colab": {
     "base_uri": "https://localhost:8080/"
    },
    "id": "uDiVLq-u7do-",
    "outputId": "7229d95e-47e0-4a22-d326-68e2001623f4"
   },
   "outputs": [
    {
     "name": "stdout",
     "output_type": "stream",
     "text": [
      "['Realizado' 'Realizado' 'Realizado' 'Realizado' 'Realizado']\n"
     ]
    }
   ],
   "source": [
    "previsao = nb.predict(nova_tabela)\n",
    "print(previsao)"
   ]
  }
 ],
 "metadata": {
  "colab": {
   "provenance": []
  },
  "kernelspec": {
   "display_name": "myenv",
   "language": "python",
   "name": "python3"
  },
  "language_info": {
   "codemirror_mode": {
    "name": "ipython",
    "version": 3
   },
   "file_extension": ".py",
   "mimetype": "text/x-python",
   "name": "python",
   "nbconvert_exporter": "python",
   "pygments_lexer": "ipython3",
   "version": "3.12.3"
  }
 },
 "nbformat": 4,
 "nbformat_minor": 0
}
